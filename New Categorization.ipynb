{
 "cells": [
  {
   "cell_type": "code",
   "execution_count": 1,
   "id": "9328038d",
   "metadata": {
    "id": "9328038d"
   },
   "outputs": [],
   "source": [
    "import numpy as np\n",
    "import pandas as pd\n",
    "import tensorflow as tf\n",
    "import matplotlib.pyplot as plt\n",
    "from sklearn.model_selection import train_test_split"
   ]
  },
  {
   "cell_type": "code",
   "execution_count": 2,
   "id": "0d1304f1",
   "metadata": {
    "id": "0d1304f1"
   },
   "outputs": [],
   "source": [
    "from tensorflow.keras.preprocessing.text import Tokenizer\n",
    "from tensorflow.keras.preprocessing.sequence import pad_sequences\n",
    "from tensorflow.keras.layers import Dense,Input,GlobalMaxPooling1D\n",
    "from tensorflow.keras.layers import LSTM,GRU,SimpleRNN,Embedding,Conv1D\n",
    "from tensorflow.keras.models import Model\n",
    "from tensorflow.keras.losses import SparseCategoricalCrossentropy"
   ]
  },
  {
   "cell_type": "code",
   "execution_count": 3,
   "id": "28ca9d5f",
   "metadata": {
    "id": "28ca9d5f"
   },
   "outputs": [],
   "source": [
    "from tensorflow.keras.models import load_model"
   ]
  },
  {
   "cell_type": "code",
   "execution_count": 4,
   "id": "70d68f14",
   "metadata": {
    "id": "70d68f14"
   },
   "outputs": [],
   "source": [
    "df = pd.read_csv(\"bbc_text_cls.csv\")"
   ]
  },
  {
   "cell_type": "code",
   "execution_count": 5,
   "id": "865344b6",
   "metadata": {
    "colab": {
     "base_uri": "https://localhost:8080/",
     "height": 206
    },
    "id": "865344b6",
    "outputId": "81144528-db3b-4241-cf0f-39e4b9e68024"
   },
   "outputs": [
    {
     "data": {
      "text/html": [
       "<div>\n",
       "<style scoped>\n",
       "    .dataframe tbody tr th:only-of-type {\n",
       "        vertical-align: middle;\n",
       "    }\n",
       "\n",
       "    .dataframe tbody tr th {\n",
       "        vertical-align: top;\n",
       "    }\n",
       "\n",
       "    .dataframe thead th {\n",
       "        text-align: right;\n",
       "    }\n",
       "</style>\n",
       "<table border=\"1\" class=\"dataframe\">\n",
       "  <thead>\n",
       "    <tr style=\"text-align: right;\">\n",
       "      <th></th>\n",
       "      <th>text</th>\n",
       "      <th>labels</th>\n",
       "    </tr>\n",
       "  </thead>\n",
       "  <tbody>\n",
       "    <tr>\n",
       "      <th>0</th>\n",
       "      <td>Ad sales boost Time Warner profit\\n\\nQuarterly...</td>\n",
       "      <td>business</td>\n",
       "    </tr>\n",
       "    <tr>\n",
       "      <th>1</th>\n",
       "      <td>Dollar gains on Greenspan speech\\n\\nThe dollar...</td>\n",
       "      <td>business</td>\n",
       "    </tr>\n",
       "    <tr>\n",
       "      <th>2</th>\n",
       "      <td>Yukos unit buyer faces loan claim\\n\\nThe owner...</td>\n",
       "      <td>business</td>\n",
       "    </tr>\n",
       "    <tr>\n",
       "      <th>3</th>\n",
       "      <td>High fuel prices hit BA's profits\\n\\nBritish A...</td>\n",
       "      <td>business</td>\n",
       "    </tr>\n",
       "    <tr>\n",
       "      <th>4</th>\n",
       "      <td>Pernod takeover talk lifts Domecq\\n\\nShares in...</td>\n",
       "      <td>business</td>\n",
       "    </tr>\n",
       "  </tbody>\n",
       "</table>\n",
       "</div>"
      ],
      "text/plain": [
       "                                                text    labels\n",
       "0  Ad sales boost Time Warner profit\\n\\nQuarterly...  business\n",
       "1  Dollar gains on Greenspan speech\\n\\nThe dollar...  business\n",
       "2  Yukos unit buyer faces loan claim\\n\\nThe owner...  business\n",
       "3  High fuel prices hit BA's profits\\n\\nBritish A...  business\n",
       "4  Pernod takeover talk lifts Domecq\\n\\nShares in...  business"
      ]
     },
     "execution_count": 5,
     "metadata": {},
     "output_type": "execute_result"
    }
   ],
   "source": [
    "df.head()"
   ]
  },
  {
   "cell_type": "code",
   "execution_count": 6,
   "id": "f2e1eefe",
   "metadata": {
    "id": "f2e1eefe"
   },
   "outputs": [],
   "source": [
    "df['targets'] = df['labels'].astype('category').cat.codes"
   ]
  },
  {
   "cell_type": "code",
   "execution_count": 7,
   "id": "e35a35fd",
   "metadata": {
    "colab": {
     "base_uri": "https://localhost:8080/"
    },
    "id": "e35a35fd",
    "outputId": "b3d8e896-1b2a-4e23-d312-ceb46c4700df"
   },
   "outputs": [
    {
     "data": {
      "text/plain": [
       "5"
      ]
     },
     "execution_count": 7,
     "metadata": {},
     "output_type": "execute_result"
    }
   ],
   "source": [
    "# Number of classes\n",
    "K=df['targets'].max()+1\n",
    "K"
   ]
  },
  {
   "cell_type": "code",
   "execution_count": 8,
   "id": "e0q_l-hBtgV4",
   "metadata": {
    "id": "e0q_l-hBtgV4"
   },
   "outputs": [],
   "source": [
    "df_train,df_test=train_test_split(df,test_size=0.3,random_state=42)"
   ]
  },
  {
   "cell_type": "code",
   "execution_count": 9,
   "id": "Phy2BxAjtpa7",
   "metadata": {
    "id": "Phy2BxAjtpa7"
   },
   "outputs": [],
   "source": [
    "MAX_VOCAB_SIZE=2000\n",
    "tokenizer=Tokenizer(num_words=MAX_VOCAB_SIZE)\n",
    "tokenizer.fit_on_texts(df_train['text'])\n",
    "sequences_train=tokenizer.texts_to_sequences(df_train['text'])\n",
    "sequences_test=tokenizer.texts_to_sequences(df_test['text'])"
   ]
  },
  {
   "cell_type": "code",
   "execution_count": 10,
   "id": "oY9jh94pupS5",
   "metadata": {
    "colab": {
     "base_uri": "https://localhost:8080/"
    },
    "id": "oY9jh94pupS5",
    "outputId": "11ec39f2-2160-4a4a-fc18-c01f9d35663b"
   },
   "outputs": [
    {
     "data": {
      "text/plain": [
       "27758"
      ]
     },
     "execution_count": 10,
     "metadata": {},
     "output_type": "execute_result"
    }
   ],
   "source": [
    "word2idx=tokenizer.word_index\n",
    "V=len(word2idx)\n",
    "V"
   ]
  },
  {
   "cell_type": "code",
   "execution_count": 11,
   "id": "o2MRyCOAu3x4",
   "metadata": {
    "colab": {
     "base_uri": "https://localhost:8080/"
    },
    "id": "o2MRyCOAu3x4",
    "outputId": "b3b825a8-6627-4f4d-a8a1-bd3aa62d61d1"
   },
   "outputs": [
    {
     "name": "stdout",
     "output_type": "stream",
     "text": [
      "(1557, 2837)\n"
     ]
    }
   ],
   "source": [
    "data_train=pad_sequences(sequences_train)\n",
    "print(data_train.shape)\n",
    "T=data_train.shape[1]"
   ]
  },
  {
   "cell_type": "code",
   "execution_count": 12,
   "id": "ySixewJtvNhL",
   "metadata": {
    "colab": {
     "base_uri": "https://localhost:8080/"
    },
    "id": "ySixewJtvNhL",
    "outputId": "c3e262bd-888e-4ad2-9bac-99dda10caeaf"
   },
   "outputs": [
    {
     "name": "stdout",
     "output_type": "stream",
     "text": [
      "(668, 2837)\n"
     ]
    }
   ],
   "source": [
    "data_test=pad_sequences(sequences_test,maxlen=T)\n",
    "print(data_test.shape)"
   ]
  },
  {
   "cell_type": "markdown",
   "id": "UQW4_ZOah1lK",
   "metadata": {
    "id": "UQW4_ZOah1lK"
   },
   "source": [
    "**ANN**"
   ]
  },
  {
   "cell_type": "code",
   "execution_count": 25,
   "id": "9meuOLRtgKzW",
   "metadata": {
    "id": "9meuOLRtgKzW"
   },
   "outputs": [],
   "source": [
    "i=Input(shape=(T,))\n",
    "x=Dense(300,activation='relu')(i)\n",
    "x=Dense(K)(x)\n",
    "model=Model(i,x)"
   ]
  },
  {
   "cell_type": "code",
   "execution_count": 26,
   "id": "s6_pBU3UiL1j",
   "metadata": {
    "id": "s6_pBU3UiL1j"
   },
   "outputs": [],
   "source": [
    "model.compile(\n",
    "loss=SparseCategoricalCrossentropy(from_logits=True),\n",
    "optimizer='adam',\n",
    "metrics=['accuracy']\n",
    ")"
   ]
  },
  {
   "cell_type": "code",
   "execution_count": 27,
   "id": "nrGRGp0GiLxw",
   "metadata": {
    "colab": {
     "base_uri": "https://localhost:8080/"
    },
    "id": "nrGRGp0GiLxw",
    "outputId": "6f711352-4fd5-40d6-ae85-2dc6e85ced34"
   },
   "outputs": [
    {
     "name": "stdout",
     "output_type": "stream",
     "text": [
      "Epoch 1/50\n",
      "49/49 [==============================] - 1s 7ms/step - loss: 174.5832 - accuracy: 0.2575 - val_loss: 93.1291 - val_accuracy: 0.2665\n",
      "Epoch 2/50\n",
      "49/49 [==============================] - 0s 5ms/step - loss: 22.7318 - accuracy: 0.5877 - val_loss: 61.4848 - val_accuracy: 0.2949\n",
      "Epoch 3/50\n",
      "49/49 [==============================] - 0s 4ms/step - loss: 5.9709 - accuracy: 0.7925 - val_loss: 57.8849 - val_accuracy: 0.3398\n",
      "Epoch 4/50\n",
      "49/49 [==============================] - 0s 5ms/step - loss: 1.8908 - accuracy: 0.9030 - val_loss: 65.3554 - val_accuracy: 0.3308\n",
      "Epoch 5/50\n",
      "49/49 [==============================] - 0s 5ms/step - loss: 1.7333 - accuracy: 0.9351 - val_loss: 55.6614 - val_accuracy: 0.3488\n",
      "Epoch 6/50\n",
      "49/49 [==============================] - 0s 4ms/step - loss: 0.7245 - accuracy: 0.9544 - val_loss: 62.6717 - val_accuracy: 0.3488\n",
      "Epoch 7/50\n",
      "49/49 [==============================] - 0s 4ms/step - loss: 0.4581 - accuracy: 0.9685 - val_loss: 63.2313 - val_accuracy: 0.3473\n",
      "Epoch 8/50\n",
      "49/49 [==============================] - 0s 4ms/step - loss: 0.1752 - accuracy: 0.9820 - val_loss: 64.5890 - val_accuracy: 0.3593\n",
      "Epoch 9/50\n",
      "49/49 [==============================] - 0s 4ms/step - loss: 0.3006 - accuracy: 0.9769 - val_loss: 63.4267 - val_accuracy: 0.3443\n",
      "Epoch 10/50\n",
      "49/49 [==============================] - 0s 4ms/step - loss: 0.2193 - accuracy: 0.9782 - val_loss: 66.1769 - val_accuracy: 0.3548\n",
      "Epoch 11/50\n",
      "49/49 [==============================] - 0s 8ms/step - loss: 0.2274 - accuracy: 0.9801 - val_loss: 66.2545 - val_accuracy: 0.3368\n",
      "Epoch 12/50\n",
      "49/49 [==============================] - 0s 5ms/step - loss: 0.2668 - accuracy: 0.9782 - val_loss: 67.2942 - val_accuracy: 0.3383\n",
      "Epoch 13/50\n",
      "49/49 [==============================] - 0s 5ms/step - loss: 0.3600 - accuracy: 0.9730 - val_loss: 69.4918 - val_accuracy: 0.3383\n",
      "Epoch 14/50\n",
      "49/49 [==============================] - 0s 6ms/step - loss: 0.2900 - accuracy: 0.9730 - val_loss: 70.0395 - val_accuracy: 0.3308\n",
      "Epoch 15/50\n",
      "49/49 [==============================] - 0s 6ms/step - loss: 0.4907 - accuracy: 0.9672 - val_loss: 72.3593 - val_accuracy: 0.3368\n",
      "Epoch 16/50\n",
      "49/49 [==============================] - 0s 6ms/step - loss: 0.5670 - accuracy: 0.9653 - val_loss: 71.8274 - val_accuracy: 0.3428\n",
      "Epoch 17/50\n",
      "49/49 [==============================] - 0s 6ms/step - loss: 0.4905 - accuracy: 0.9698 - val_loss: 69.3807 - val_accuracy: 0.3473\n",
      "Epoch 18/50\n",
      "49/49 [==============================] - 0s 6ms/step - loss: 0.4879 - accuracy: 0.9660 - val_loss: 66.4615 - val_accuracy: 0.3428\n",
      "Epoch 19/50\n",
      "49/49 [==============================] - 0s 5ms/step - loss: 0.7812 - accuracy: 0.9576 - val_loss: 70.1067 - val_accuracy: 0.3413\n",
      "Epoch 20/50\n",
      "49/49 [==============================] - 0s 5ms/step - loss: 0.8720 - accuracy: 0.9608 - val_loss: 68.5989 - val_accuracy: 0.3428\n",
      "Epoch 21/50\n",
      "49/49 [==============================] - 0s 6ms/step - loss: 0.6552 - accuracy: 0.9608 - val_loss: 70.6881 - val_accuracy: 0.3263\n",
      "Epoch 22/50\n",
      "49/49 [==============================] - 0s 6ms/step - loss: 0.8912 - accuracy: 0.9583 - val_loss: 67.9411 - val_accuracy: 0.3518\n",
      "Epoch 23/50\n",
      "49/49 [==============================] - 0s 4ms/step - loss: 1.0540 - accuracy: 0.9499 - val_loss: 67.4100 - val_accuracy: 0.3443\n",
      "Epoch 24/50\n",
      "49/49 [==============================] - 0s 4ms/step - loss: 2.1073 - accuracy: 0.9371 - val_loss: 75.2896 - val_accuracy: 0.3383\n",
      "Epoch 25/50\n",
      "49/49 [==============================] - 0s 4ms/step - loss: 1.8862 - accuracy: 0.9332 - val_loss: 76.9101 - val_accuracy: 0.3263\n",
      "Epoch 26/50\n",
      "49/49 [==============================] - 0s 4ms/step - loss: 1.5895 - accuracy: 0.9480 - val_loss: 65.5963 - val_accuracy: 0.3488\n",
      "Epoch 27/50\n",
      "49/49 [==============================] - 0s 4ms/step - loss: 1.0139 - accuracy: 0.9538 - val_loss: 68.2668 - val_accuracy: 0.3338\n",
      "Epoch 28/50\n",
      "49/49 [==============================] - 0s 4ms/step - loss: 0.7106 - accuracy: 0.9717 - val_loss: 69.7118 - val_accuracy: 0.3353\n",
      "Epoch 29/50\n",
      "49/49 [==============================] - 0s 4ms/step - loss: 0.4615 - accuracy: 0.9775 - val_loss: 67.3551 - val_accuracy: 0.3488\n",
      "Epoch 30/50\n",
      "49/49 [==============================] - 0s 4ms/step - loss: 0.4620 - accuracy: 0.9794 - val_loss: 71.3361 - val_accuracy: 0.3338\n",
      "Epoch 31/50\n",
      "49/49 [==============================] - 0s 4ms/step - loss: 0.3278 - accuracy: 0.9833 - val_loss: 70.5113 - val_accuracy: 0.3398\n",
      "Epoch 32/50\n",
      "49/49 [==============================] - 0s 4ms/step - loss: 0.2340 - accuracy: 0.9859 - val_loss: 71.3032 - val_accuracy: 0.3353\n",
      "Epoch 33/50\n",
      "49/49 [==============================] - 0s 4ms/step - loss: 0.3180 - accuracy: 0.9852 - val_loss: 75.1345 - val_accuracy: 0.3234\n",
      "Epoch 34/50\n",
      "49/49 [==============================] - 0s 4ms/step - loss: 0.2995 - accuracy: 0.9814 - val_loss: 71.6900 - val_accuracy: 0.3533\n",
      "Epoch 35/50\n",
      "49/49 [==============================] - 0s 4ms/step - loss: 0.5282 - accuracy: 0.9762 - val_loss: 73.0961 - val_accuracy: 0.3428\n",
      "Epoch 36/50\n",
      "49/49 [==============================] - 0s 5ms/step - loss: 0.4125 - accuracy: 0.9756 - val_loss: 68.4288 - val_accuracy: 0.3533\n",
      "Epoch 37/50\n",
      "49/49 [==============================] - 0s 4ms/step - loss: 0.2099 - accuracy: 0.9865 - val_loss: 69.1475 - val_accuracy: 0.3548\n",
      "Epoch 38/50\n",
      "49/49 [==============================] - 0s 4ms/step - loss: 0.1317 - accuracy: 0.9910 - val_loss: 69.8339 - val_accuracy: 0.3368\n",
      "Epoch 39/50\n",
      "49/49 [==============================] - 0s 4ms/step - loss: 0.2677 - accuracy: 0.9833 - val_loss: 70.0549 - val_accuracy: 0.3054\n",
      "Epoch 40/50\n",
      "49/49 [==============================] - 0s 4ms/step - loss: 0.2177 - accuracy: 0.9865 - val_loss: 72.9372 - val_accuracy: 0.3174\n",
      "Epoch 41/50\n",
      "49/49 [==============================] - 0s 5ms/step - loss: 0.2759 - accuracy: 0.9814 - val_loss: 69.7393 - val_accuracy: 0.3398\n",
      "Epoch 42/50\n",
      "49/49 [==============================] - 0s 4ms/step - loss: 0.1049 - accuracy: 0.9904 - val_loss: 67.8267 - val_accuracy: 0.3428\n",
      "Epoch 43/50\n",
      "49/49 [==============================] - 0s 4ms/step - loss: 0.0683 - accuracy: 0.9917 - val_loss: 65.7233 - val_accuracy: 0.3548\n",
      "Epoch 44/50\n",
      "49/49 [==============================] - 0s 4ms/step - loss: 0.0808 - accuracy: 0.9942 - val_loss: 66.2968 - val_accuracy: 0.3473\n",
      "Epoch 45/50\n",
      "49/49 [==============================] - 0s 4ms/step - loss: 0.0731 - accuracy: 0.9968 - val_loss: 66.7404 - val_accuracy: 0.3308\n",
      "Epoch 46/50\n",
      "49/49 [==============================] - 0s 5ms/step - loss: 0.1315 - accuracy: 0.9929 - val_loss: 68.7054 - val_accuracy: 0.3608\n",
      "Epoch 47/50\n",
      "49/49 [==============================] - 0s 4ms/step - loss: 0.2719 - accuracy: 0.9852 - val_loss: 69.2487 - val_accuracy: 0.3293\n",
      "Epoch 48/50\n",
      "49/49 [==============================] - 0s 4ms/step - loss: 0.5088 - accuracy: 0.9820 - val_loss: 72.4772 - val_accuracy: 0.3144\n",
      "Epoch 49/50\n",
      "49/49 [==============================] - 0s 4ms/step - loss: 0.4074 - accuracy: 0.9794 - val_loss: 73.8627 - val_accuracy: 0.3278\n",
      "Epoch 50/50\n",
      "49/49 [==============================] - 0s 5ms/step - loss: 0.4386 - accuracy: 0.9762 - val_loss: 72.5399 - val_accuracy: 0.3323\n"
     ]
    }
   ],
   "source": [
    "r = model.fit(data_train,df_train['targets'],epochs=50,validation_data=(data_test,df_test['targets']))"
   ]
  },
  {
   "cell_type": "code",
   "execution_count": 28,
   "id": "EyyaqWoGiLuM",
   "metadata": {
    "id": "EyyaqWoGiLuM"
   },
   "outputs": [],
   "source": [
    "model.save('final_model_ann.h5')"
   ]
  },
  {
   "cell_type": "code",
   "execution_count": 29,
   "id": "gSJvPjnNicp-",
   "metadata": {
    "colab": {
     "base_uri": "https://localhost:8080/"
    },
    "id": "gSJvPjnNicp-",
    "outputId": "f94eea65-ebe9-41d8-d149-6086c52a9efa"
   },
   "outputs": [
    {
     "name": "stdout",
     "output_type": "stream",
     "text": [
      "21/21 [==============================] - 0s 2ms/step - loss: 72.5399 - accuracy: 0.3323\n"
     ]
    },
    {
     "data": {
      "text/plain": [
       "[72.53990936279297, 0.33233532309532166]"
      ]
     },
     "execution_count": 29,
     "metadata": {},
     "output_type": "execute_result"
    }
   ],
   "source": [
    "model.evaluate(data_test,df_test['targets'])"
   ]
  },
  {
   "cell_type": "code",
   "execution_count": 30,
   "id": "gobu_iCVicjh",
   "metadata": {
    "colab": {
     "base_uri": "https://localhost:8080/",
     "height": 430
    },
    "id": "gobu_iCVicjh",
    "outputId": "61f30c0e-0001-46f7-fae3-5156a6f02357"
   },
   "outputs": [
    {
     "data": {
      "image/png": "[encoded data removed]",
      "text/plain": [
       "<Figure size 640x480 with 1 Axes>"
      ]
     },
     "metadata": {},
     "output_type": "display_data"
    }
   ],
   "source": [
    "plt.plot(r.history['loss'],label='train_loss')\n",
    "plt.plot(r.history['val_loss'],label='val_loss')\n",
    "plt.legend();"
   ]
  },
  {
   "cell_type": "code",
   "execution_count": 31,
   "id": "DyjxfSPYicbM",
   "metadata": {
    "colab": {
     "base_uri": "https://localhost:8080/",
     "height": 430
    },
    "id": "DyjxfSPYicbM",
    "outputId": "6cb7868d-3acc-4366-8915-95e21b048727"
   },
   "outputs": [
    {
     "data": {
      "image/png": "[encoded data removed]",
      "text/plain": [
       "<Figure size 640x480 with 1 Axes>"
      ]
     },
     "metadata": {},
     "output_type": "display_data"
    }
   ],
   "source": [
    "plt.plot(r.history['accuracy'],label='train_accuracy')\n",
    "plt.plot(r.history['val_accuracy'],label='val_accuracy')\n",
    "plt.legend();"
   ]
  },
  {
   "cell_type": "markdown",
   "id": "NtDwIFXoh0AU",
   "metadata": {
    "id": "NtDwIFXoh0AU"
   },
   "source": [
    "**CNN**"
   ]
  },
  {
   "cell_type": "code",
   "execution_count": 17,
   "id": "2JxGTnQFgKw1",
   "metadata": {
    "id": "2JxGTnQFgKw1"
   },
   "outputs": [],
   "source": [
    "D=50\n",
    "i=Input(shape=(T,))\n",
    "x=Embedding(V+1,D)(i)\n",
    "x=Conv1D(32,3, activation='relu')(x)\n",
    "x=GlobalMaxPooling1D()(x)\n",
    "x=Dense(K)(x)\n",
    "model=Model(i,x)"
   ]
  },
  {
   "cell_type": "code",
   "execution_count": 18,
   "id": "_KTJcTqcgKpS",
   "metadata": {
    "id": "_KTJcTqcgKpS"
   },
   "outputs": [],
   "source": [
    "model.compile(\n",
    "loss=SparseCategoricalCrossentropy(from_logits=True),\n",
    "optimizer='adam',\n",
    "metrics=['accuracy']\n",
    ")"
   ]
  },
  {
   "cell_type": "code",
   "execution_count": 19,
   "id": "o1M1OQISgKU5",
   "metadata": {
    "colab": {
     "base_uri": "https://localhost:8080/"
    },
    "id": "o1M1OQISgKU5",
    "outputId": "23887992-92b9-4cbc-871d-a30400b27879"
   },
   "outputs": [
    {
     "name": "stdout",
     "output_type": "stream",
     "text": [
      "Epoch 1/50\n",
      "49/49 [==============================] - 20s 201ms/step - loss: 1.5683 - accuracy: 0.3571 - val_loss: 1.4865 - val_accuracy: 0.4536\n",
      "Epoch 2/50\n",
      "49/49 [==============================] - 8s 155ms/step - loss: 1.3456 - accuracy: 0.5665 - val_loss: 1.1734 - val_accuracy: 0.7530\n",
      "Epoch 3/50\n",
      "49/49 [==============================] - 8s 155ms/step - loss: 0.9169 - accuracy: 0.8523 - val_loss: 0.7140 - val_accuracy: 0.8937\n",
      "Epoch 4/50\n",
      "49/49 [==============================] - 5s 90ms/step - loss: 0.4999 - accuracy: 0.9255 - val_loss: 0.4291 - val_accuracy: 0.9087\n",
      "Epoch 5/50\n",
      "49/49 [==============================] - 4s 69ms/step - loss: 0.2833 - accuracy: 0.9512 - val_loss: 0.3091 - val_accuracy: 0.9177\n",
      "Epoch 6/50\n",
      "49/49 [==============================] - 4s 85ms/step - loss: 0.1835 - accuracy: 0.9705 - val_loss: 0.2509 - val_accuracy: 0.9237\n",
      "Epoch 7/50\n",
      "49/49 [==============================] - 2s 45ms/step - loss: 0.1276 - accuracy: 0.9820 - val_loss: 0.2186 - val_accuracy: 0.9251\n",
      "Epoch 8/50\n",
      "49/49 [==============================] - 3s 53ms/step - loss: 0.0920 - accuracy: 0.9878 - val_loss: 0.2002 - val_accuracy: 0.9281\n",
      "Epoch 9/50\n",
      "49/49 [==============================] - 2s 45ms/step - loss: 0.0685 - accuracy: 0.9917 - val_loss: 0.1882 - val_accuracy: 0.9356\n",
      "Epoch 10/50\n",
      "49/49 [==============================] - 2s 44ms/step - loss: 0.0512 - accuracy: 0.9942 - val_loss: 0.1787 - val_accuracy: 0.9341\n",
      "Epoch 11/50\n",
      "49/49 [==============================] - 3s 60ms/step - loss: 0.0390 - accuracy: 0.9981 - val_loss: 0.1713 - val_accuracy: 0.9401\n",
      "Epoch 12/50\n",
      "49/49 [==============================] - 2s 49ms/step - loss: 0.0302 - accuracy: 0.9987 - val_loss: 0.1674 - val_accuracy: 0.9431\n",
      "Epoch 13/50\n",
      "49/49 [==============================] - 1s 28ms/step - loss: 0.0239 - accuracy: 0.9994 - val_loss: 0.1634 - val_accuracy: 0.9416\n",
      "Epoch 14/50\n",
      "49/49 [==============================] - 2s 32ms/step - loss: 0.0189 - accuracy: 1.0000 - val_loss: 0.1614 - val_accuracy: 0.9446\n",
      "Epoch 15/50\n",
      "49/49 [==============================] - 1s 20ms/step - loss: 0.0154 - accuracy: 1.0000 - val_loss: 0.1596 - val_accuracy: 0.9476\n",
      "Epoch 16/50\n",
      "49/49 [==============================] - 1s 19ms/step - loss: 0.0128 - accuracy: 1.0000 - val_loss: 0.1583 - val_accuracy: 0.9446\n",
      "Epoch 17/50\n",
      "49/49 [==============================] - 1s 22ms/step - loss: 0.0108 - accuracy: 1.0000 - val_loss: 0.1573 - val_accuracy: 0.9476\n",
      "Epoch 18/50\n",
      "49/49 [==============================] - 1s 19ms/step - loss: 0.0091 - accuracy: 1.0000 - val_loss: 0.1567 - val_accuracy: 0.9476\n",
      "Epoch 19/50\n",
      "49/49 [==============================] - 1s 25ms/step - loss: 0.0079 - accuracy: 1.0000 - val_loss: 0.1560 - val_accuracy: 0.9476\n",
      "Epoch 20/50\n",
      "49/49 [==============================] - 2s 38ms/step - loss: 0.0069 - accuracy: 1.0000 - val_loss: 0.1558 - val_accuracy: 0.9491\n",
      "Epoch 21/50\n",
      "49/49 [==============================] - 2s 39ms/step - loss: 0.0060 - accuracy: 1.0000 - val_loss: 0.1557 - val_accuracy: 0.9476\n",
      "Epoch 22/50\n",
      "49/49 [==============================] - 1s 20ms/step - loss: 0.0053 - accuracy: 1.0000 - val_loss: 0.1557 - val_accuracy: 0.9476\n",
      "Epoch 23/50\n",
      "49/49 [==============================] - 1s 15ms/step - loss: 0.0047 - accuracy: 1.0000 - val_loss: 0.1560 - val_accuracy: 0.9476\n",
      "Epoch 24/50\n",
      "49/49 [==============================] - 1s 23ms/step - loss: 0.0042 - accuracy: 1.0000 - val_loss: 0.1560 - val_accuracy: 0.9476\n",
      "Epoch 25/50\n",
      "49/49 [==============================] - 1s 19ms/step - loss: 0.0038 - accuracy: 1.0000 - val_loss: 0.1558 - val_accuracy: 0.9476\n",
      "Epoch 26/50\n",
      "49/49 [==============================] - 1s 17ms/step - loss: 0.0034 - accuracy: 1.0000 - val_loss: 0.1560 - val_accuracy: 0.9491\n",
      "Epoch 27/50\n",
      "49/49 [==============================] - 1s 21ms/step - loss: 0.0031 - accuracy: 1.0000 - val_loss: 0.1562 - val_accuracy: 0.9476\n",
      "Epoch 28/50\n",
      "49/49 [==============================] - 1s 17ms/step - loss: 0.0028 - accuracy: 1.0000 - val_loss: 0.1565 - val_accuracy: 0.9506\n",
      "Epoch 29/50\n",
      "49/49 [==============================] - 1s 29ms/step - loss: 0.0026 - accuracy: 1.0000 - val_loss: 0.1568 - val_accuracy: 0.9506\n",
      "Epoch 30/50\n",
      "49/49 [==============================] - 1s 17ms/step - loss: 0.0024 - accuracy: 1.0000 - val_loss: 0.1573 - val_accuracy: 0.9506\n",
      "Epoch 31/50\n",
      "49/49 [==============================] - 1s 19ms/step - loss: 0.0022 - accuracy: 1.0000 - val_loss: 0.1573 - val_accuracy: 0.9521\n",
      "Epoch 32/50\n",
      "49/49 [==============================] - 3s 61ms/step - loss: 0.0020 - accuracy: 1.0000 - val_loss: 0.1577 - val_accuracy: 0.9521\n",
      "Epoch 33/50\n",
      "49/49 [==============================] - 2s 31ms/step - loss: 0.0019 - accuracy: 1.0000 - val_loss: 0.1580 - val_accuracy: 0.9521\n",
      "Epoch 34/50\n",
      "49/49 [==============================] - 1s 19ms/step - loss: 0.0017 - accuracy: 1.0000 - val_loss: 0.1582 - val_accuracy: 0.9521\n",
      "Epoch 35/50\n",
      "49/49 [==============================] - 1s 17ms/step - loss: 0.0016 - accuracy: 1.0000 - val_loss: 0.1587 - val_accuracy: 0.9521\n",
      "Epoch 36/50\n",
      "49/49 [==============================] - 1s 20ms/step - loss: 0.0015 - accuracy: 1.0000 - val_loss: 0.1590 - val_accuracy: 0.9536\n",
      "Epoch 37/50\n",
      "49/49 [==============================] - 1s 13ms/step - loss: 0.0014 - accuracy: 1.0000 - val_loss: 0.1593 - val_accuracy: 0.9536\n",
      "Epoch 38/50\n",
      "49/49 [==============================] - 1s 13ms/step - loss: 0.0013 - accuracy: 1.0000 - val_loss: 0.1596 - val_accuracy: 0.9536\n",
      "Epoch 39/50\n",
      "49/49 [==============================] - 1s 19ms/step - loss: 0.0012 - accuracy: 1.0000 - val_loss: 0.1599 - val_accuracy: 0.9536\n",
      "Epoch 40/50\n",
      "49/49 [==============================] - 1s 14ms/step - loss: 0.0011 - accuracy: 1.0000 - val_loss: 0.1603 - val_accuracy: 0.9536\n",
      "Epoch 41/50\n",
      "49/49 [==============================] - 1s 13ms/step - loss: 0.0011 - accuracy: 1.0000 - val_loss: 0.1607 - val_accuracy: 0.9536\n",
      "Epoch 42/50\n",
      "49/49 [==============================] - 1s 15ms/step - loss: 9.9767e-04 - accuracy: 1.0000 - val_loss: 0.1609 - val_accuracy: 0.9551\n",
      "Epoch 43/50\n",
      "49/49 [==============================] - 1s 23ms/step - loss: 9.3805e-04 - accuracy: 1.0000 - val_loss: 0.1613 - val_accuracy: 0.9551\n",
      "Epoch 44/50\n",
      "49/49 [==============================] - 1s 17ms/step - loss: 8.8427e-04 - accuracy: 1.0000 - val_loss: 0.1617 - val_accuracy: 0.9551\n",
      "Epoch 45/50\n",
      "49/49 [==============================] - 1s 26ms/step - loss: 8.3383e-04 - accuracy: 1.0000 - val_loss: 0.1621 - val_accuracy: 0.9551\n",
      "Epoch 46/50\n",
      "49/49 [==============================] - 2s 32ms/step - loss: 7.8780e-04 - accuracy: 1.0000 - val_loss: 0.1625 - val_accuracy: 0.9551\n",
      "Epoch 47/50\n",
      "49/49 [==============================] - 1s 14ms/step - loss: 7.4430e-04 - accuracy: 1.0000 - val_loss: 0.1628 - val_accuracy: 0.9551\n",
      "Epoch 48/50\n",
      "49/49 [==============================] - 1s 11ms/step - loss: 7.0471e-04 - accuracy: 1.0000 - val_loss: 0.1631 - val_accuracy: 0.9551\n",
      "Epoch 49/50\n",
      "49/49 [==============================] - 1s 19ms/step - loss: 6.6788e-04 - accuracy: 1.0000 - val_loss: 0.1634 - val_accuracy: 0.9551\n",
      "Epoch 50/50\n",
      "49/49 [==============================] - 1s 25ms/step - loss: 6.3318e-04 - accuracy: 1.0000 - val_loss: 0.1636 - val_accuracy: 0.9551\n"
     ]
    }
   ],
   "source": [
    "r = model.fit(data_train,df_train['targets'],epochs=50,validation_data=(data_test,df_test['targets']))"
   ]
  },
  {
   "cell_type": "code",
   "execution_count": 20,
   "id": "Sgx6Sk-3hNks",
   "metadata": {
    "id": "Sgx6Sk-3hNks"
   },
   "outputs": [],
   "source": [
    "model.save('final_model_cnn.h5')"
   ]
  },
  {
   "cell_type": "code",
   "execution_count": 21,
   "id": "-9zYA24_hNSk",
   "metadata": {
    "colab": {
     "base_uri": "https://localhost:8080/"
    },
    "id": "-9zYA24_hNSk",
    "outputId": "5f770ba4-286d-43e3-8f5f-23d48eb0b0b0"
   },
   "outputs": [
    {
     "name": "stdout",
     "output_type": "stream",
     "text": [
      "21/21 [==============================] - 0s 5ms/step - loss: 0.1636 - accuracy: 0.9551\n"
     ]
    },
    {
     "data": {
      "text/plain": [
       "[0.16363610327243805, 0.955089807510376]"
      ]
     },
     "execution_count": 21,
     "metadata": {},
     "output_type": "execute_result"
    }
   ],
   "source": [
    "model.evaluate(data_test,df_test['targets'])"
   ]
  },
  {
   "cell_type": "code",
   "execution_count": 22,
   "id": "u0Ml6obZhmYv",
   "metadata": {
    "colab": {
     "base_uri": "https://localhost:8080/",
     "height": 430
    },
    "id": "u0Ml6obZhmYv",
    "outputId": "09b97e54-23fc-483d-943f-80aebea53978"
   },
   "outputs": [
    {
     "data": {
      "image/png": "[encoded data removed]",
      "text/plain": [
       "<Figure size 640x480 with 1 Axes>"
      ]
     },
     "metadata": {},
     "output_type": "display_data"
    }
   ],
   "source": [
    "plt.plot(r.history['loss'],label='train_loss')\n",
    "plt.plot(r.history['val_loss'],label='val_loss')\n",
    "plt.legend();"
   ]
  },
  {
   "cell_type": "code",
   "execution_count": 23,
   "id": "RZjPTsX5hmLG",
   "metadata": {
    "colab": {
     "base_uri": "https://localhost:8080/",
     "height": 430
    },
    "id": "RZjPTsX5hmLG",
    "outputId": "9043aea4-8820-4b62-bf13-af29f5310f40"
   },
   "outputs": [
    {
     "data": {
      "image/png": "[encoded data removed]",
      "text/plain": [
       "<Figure size 640x480 with 1 Axes>"
      ]
     },
     "metadata": {},
     "output_type": "display_data"
    }
   ],
   "source": [
    "plt.plot(r.history['accuracy'],label='train_accuracy')\n",
    "plt.plot(r.history['val_accuracy'],label='val_accuracy')\n",
    "plt.legend();"
   ]
  },
  {
   "cell_type": "markdown",
   "id": "_ARJhxdRgG2I",
   "metadata": {
    "id": "_ARJhxdRgG2I"
   },
   "source": [
    "LSTM"
   ]
  },
  {
   "cell_type": "code",
   "execution_count": null,
   "id": "CLkLqlt8vYua",
   "metadata": {
    "id": "CLkLqlt8vYua"
   },
   "outputs": [],
   "source": [
    "D=20\n",
    "i=Input(shape=(T,))\n",
    "x=Embedding(V+1,D)(i)\n",
    "x=LSTM(32,return_sequences=True)(x)\n",
    "x=GlobalMaxPooling1D()(x)\n",
    "x=Dense(K)(x)\n",
    "\n",
    "model=Model(i,x)"
   ]
  },
  {
   "cell_type": "code",
   "execution_count": null,
   "id": "XfISIX7RvYpU",
   "metadata": {
    "id": "XfISIX7RvYpU"
   },
   "outputs": [],
   "source": [
    "model.compile(\n",
    "loss=SparseCategoricalCrossentropy(from_logits=True),\n",
    "optimizer='adam',\n",
    "metrics=['accuracy']\n",
    ")"
   ]
  },
  {
   "cell_type": "code",
   "execution_count": null,
   "id": "o4tUuyWLvYl4",
   "metadata": {
    "colab": {
     "base_uri": "https://localhost:8080/"
    },
    "id": "o4tUuyWLvYl4",
    "outputId": "390266fe-c4d7-490f-9277-52ae47cf853c"
   },
   "outputs": [
    {
     "name": "stdout",
     "output_type": "stream",
     "text": [
      "Epoch 1/50\n",
      "49/49 [==============================] - 22s 306ms/step - loss: 1.6019 - accuracy: 0.2505 - val_loss: 1.5922 - val_accuracy: 0.2096\n",
      "Epoch 2/50\n",
      "49/49 [==============================] - 13s 275ms/step - loss: 1.5051 - accuracy: 0.3423 - val_loss: 1.3498 - val_accuracy: 0.4386\n",
      "Epoch 3/50\n",
      "49/49 [==============================] - 8s 171ms/step - loss: 1.5316 - accuracy: 0.2614 - val_loss: 1.5469 - val_accuracy: 0.2754\n",
      "Epoch 4/50\n",
      "49/49 [==============================] - 8s 171ms/step - loss: 1.4813 - accuracy: 0.3764 - val_loss: 1.3866 - val_accuracy: 0.5195\n",
      "Epoch 5/50\n",
      "49/49 [==============================] - 8s 155ms/step - loss: 1.1845 - accuracy: 0.6262 - val_loss: 1.1326 - val_accuracy: 0.5868\n",
      "Epoch 6/50\n",
      "49/49 [==============================] - 7s 140ms/step - loss: 1.0104 - accuracy: 0.6557 - val_loss: 0.9453 - val_accuracy: 0.6796\n",
      "Epoch 7/50\n",
      "49/49 [==============================] - 8s 152ms/step - loss: 0.8150 - accuracy: 0.7643 - val_loss: 0.7421 - val_accuracy: 0.8443\n",
      "Epoch 8/50\n",
      "49/49 [==============================] - 7s 134ms/step - loss: 0.5769 - accuracy: 0.9011 - val_loss: 0.5007 - val_accuracy: 0.8757\n",
      "Epoch 9/50\n",
      "49/49 [==============================] - 6s 119ms/step - loss: 0.3850 - accuracy: 0.9171 - val_loss: 0.4228 - val_accuracy: 0.8757\n",
      "Epoch 10/50\n",
      "49/49 [==============================] - 5s 106ms/step - loss: 0.2810 - accuracy: 0.9441 - val_loss: 0.3606 - val_accuracy: 0.8922\n",
      "Epoch 11/50\n",
      "49/49 [==============================] - 4s 90ms/step - loss: 0.1979 - accuracy: 0.9743 - val_loss: 0.2600 - val_accuracy: 0.9237\n",
      "Epoch 12/50\n",
      "49/49 [==============================] - 6s 129ms/step - loss: 0.2004 - accuracy: 0.9390 - val_loss: 0.2469 - val_accuracy: 0.9192\n",
      "Epoch 13/50\n",
      "49/49 [==============================] - 5s 107ms/step - loss: 0.1070 - accuracy: 0.9865 - val_loss: 0.2124 - val_accuracy: 0.9401\n",
      "Epoch 14/50\n",
      "49/49 [==============================] - 5s 110ms/step - loss: 0.0949 - accuracy: 0.9852 - val_loss: 0.2307 - val_accuracy: 0.9266\n",
      "Epoch 15/50\n",
      "49/49 [==============================] - 6s 116ms/step - loss: 0.1190 - accuracy: 0.9782 - val_loss: 0.2426 - val_accuracy: 0.9251\n",
      "Epoch 16/50\n",
      "49/49 [==============================] - 4s 87ms/step - loss: 0.2548 - accuracy: 0.9377 - val_loss: 0.3724 - val_accuracy: 0.9401\n",
      "Epoch 17/50\n",
      "49/49 [==============================] - 6s 125ms/step - loss: 0.2213 - accuracy: 0.9782 - val_loss: 0.2681 - val_accuracy: 0.9506\n",
      "Epoch 18/50\n",
      "49/49 [==============================] - 4s 89ms/step - loss: 0.1380 - accuracy: 0.9865 - val_loss: 0.2149 - val_accuracy: 0.9566\n",
      "Epoch 19/50\n",
      "49/49 [==============================] - 4s 82ms/step - loss: 0.0961 - accuracy: 0.9897 - val_loss: 0.1938 - val_accuracy: 0.9536\n",
      "Epoch 20/50\n",
      "49/49 [==============================] - 5s 108ms/step - loss: 0.0798 - accuracy: 0.9923 - val_loss: 0.1825 - val_accuracy: 0.9521\n",
      "Epoch 21/50\n",
      "49/49 [==============================] - 5s 95ms/step - loss: 0.0592 - accuracy: 0.9955 - val_loss: 0.1771 - val_accuracy: 0.9491\n",
      "Epoch 22/50\n",
      "49/49 [==============================] - 5s 100ms/step - loss: 0.0535 - accuracy: 0.9955 - val_loss: 0.2086 - val_accuracy: 0.9401\n",
      "Epoch 23/50\n",
      "49/49 [==============================] - 5s 111ms/step - loss: 0.0453 - accuracy: 0.9974 - val_loss: 0.1740 - val_accuracy: 0.9506\n",
      "Epoch 24/50\n",
      "49/49 [==============================] - 4s 92ms/step - loss: 0.0343 - accuracy: 0.9981 - val_loss: 0.1798 - val_accuracy: 0.9416\n",
      "Epoch 25/50\n",
      "49/49 [==============================] - 5s 111ms/step - loss: 0.0282 - accuracy: 0.9981 - val_loss: 0.1821 - val_accuracy: 0.9431\n",
      "Epoch 26/50\n",
      "49/49 [==============================] - 4s 85ms/step - loss: 0.0237 - accuracy: 0.9987 - val_loss: 0.1888 - val_accuracy: 0.9446\n",
      "Epoch 27/50\n",
      "49/49 [==============================] - 4s 83ms/step - loss: 0.0222 - accuracy: 0.9981 - val_loss: 0.1851 - val_accuracy: 0.9401\n",
      "Epoch 28/50\n",
      "49/49 [==============================] - 5s 109ms/step - loss: 0.0178 - accuracy: 1.0000 - val_loss: 0.1892 - val_accuracy: 0.9506\n",
      "Epoch 29/50\n",
      "49/49 [==============================] - 4s 85ms/step - loss: 0.0158 - accuracy: 1.0000 - val_loss: 0.1934 - val_accuracy: 0.9476\n",
      "Epoch 30/50\n",
      "49/49 [==============================] - 4s 84ms/step - loss: 0.0141 - accuracy: 0.9994 - val_loss: 0.1933 - val_accuracy: 0.9476\n",
      "Epoch 31/50\n",
      "49/49 [==============================] - 6s 118ms/step - loss: 0.0126 - accuracy: 1.0000 - val_loss: 0.1932 - val_accuracy: 0.9476\n",
      "Epoch 32/50\n",
      "49/49 [==============================] - 4s 85ms/step - loss: 0.0112 - accuracy: 1.0000 - val_loss: 0.2053 - val_accuracy: 0.9431\n",
      "Epoch 33/50\n",
      "49/49 [==============================] - 4s 83ms/step - loss: 0.0104 - accuracy: 0.9994 - val_loss: 0.2078 - val_accuracy: 0.9431\n",
      "Epoch 34/50\n",
      "49/49 [==============================] - 6s 128ms/step - loss: 0.0710 - accuracy: 0.9839 - val_loss: 0.4703 - val_accuracy: 0.8743\n",
      "Epoch 35/50\n",
      "49/49 [==============================] - 4s 79ms/step - loss: 0.0657 - accuracy: 0.9827 - val_loss: 0.1886 - val_accuracy: 0.9551\n",
      "Epoch 36/50\n",
      "49/49 [==============================] - 4s 82ms/step - loss: 0.0243 - accuracy: 0.9968 - val_loss: 0.1703 - val_accuracy: 0.9521\n",
      "Epoch 37/50\n",
      "49/49 [==============================] - 5s 104ms/step - loss: 0.0165 - accuracy: 0.9994 - val_loss: 0.1698 - val_accuracy: 0.9521\n",
      "Epoch 38/50\n",
      "49/49 [==============================] - 4s 79ms/step - loss: 0.0140 - accuracy: 0.9994 - val_loss: 0.1690 - val_accuracy: 0.9566\n",
      "Epoch 39/50\n",
      "49/49 [==============================] - 4s 79ms/step - loss: 0.0129 - accuracy: 0.9994 - val_loss: 0.1769 - val_accuracy: 0.9506\n",
      "Epoch 40/50\n",
      "49/49 [==============================] - 6s 120ms/step - loss: 0.0120 - accuracy: 0.9994 - val_loss: 0.1778 - val_accuracy: 0.9521\n",
      "Epoch 41/50\n",
      "49/49 [==============================] - 4s 88ms/step - loss: 0.0282 - accuracy: 0.9968 - val_loss: 0.1370 - val_accuracy: 0.9566\n",
      "Epoch 42/50\n",
      "49/49 [==============================] - 4s 83ms/step - loss: 0.0121 - accuracy: 1.0000 - val_loss: 0.1464 - val_accuracy: 0.9551\n",
      "Epoch 43/50\n",
      "49/49 [==============================] - 5s 106ms/step - loss: 0.0089 - accuracy: 1.0000 - val_loss: 0.1539 - val_accuracy: 0.9581\n",
      "Epoch 44/50\n",
      "49/49 [==============================] - 4s 74ms/step - loss: 0.0094 - accuracy: 0.9987 - val_loss: 0.1478 - val_accuracy: 0.9536\n",
      "Epoch 45/50\n",
      "49/49 [==============================] - 4s 78ms/step - loss: 0.0069 - accuracy: 1.0000 - val_loss: 0.1555 - val_accuracy: 0.9581\n",
      "Epoch 46/50\n",
      "49/49 [==============================] - 5s 96ms/step - loss: 0.0060 - accuracy: 1.0000 - val_loss: 0.1666 - val_accuracy: 0.9551\n",
      "Epoch 47/50\n",
      "49/49 [==============================] - 4s 82ms/step - loss: 0.0054 - accuracy: 1.0000 - val_loss: 0.1617 - val_accuracy: 0.9596\n",
      "Epoch 48/50\n",
      "49/49 [==============================] - 4s 91ms/step - loss: 0.0049 - accuracy: 1.0000 - val_loss: 0.1755 - val_accuracy: 0.9581\n",
      "Epoch 49/50\n",
      "49/49 [==============================] - 5s 95ms/step - loss: 0.0045 - accuracy: 1.0000 - val_loss: 0.1873 - val_accuracy: 0.9581\n",
      "Epoch 50/50\n",
      "49/49 [==============================] - 4s 87ms/step - loss: 0.0042 - accuracy: 1.0000 - val_loss: 0.1915 - val_accuracy: 0.9566\n"
     ]
    }
   ],
   "source": [
    "r = model.fit(data_train,df_train['targets'],epochs=50,validation_data=(data_test,df_test['targets']))"
   ]
  },
  {
   "cell_type": "code",
   "execution_count": null,
   "id": "dbm_nRnpvYjH",
   "metadata": {
    "id": "dbm_nRnpvYjH"
   },
   "outputs": [],
   "source": [
    "model.save('final_model.h5')"
   ]
  },
  {
   "cell_type": "code",
   "execution_count": null,
   "id": "GtXIAYEA0I6Z",
   "metadata": {
    "colab": {
     "base_uri": "https://localhost:8080/"
    },
    "id": "GtXIAYEA0I6Z",
    "outputId": "cf277c72-f6b8-4050-99c7-677f880a7e05"
   },
   "outputs": [
    {
     "name": "stdout",
     "output_type": "stream",
     "text": [
      "21/21 [==============================] - 1s 34ms/step - loss: 0.1915 - accuracy: 0.9566\n"
     ]
    },
    {
     "data": {
      "text/plain": [
       "[0.19152653217315674, 0.9565868377685547]"
      ]
     },
     "execution_count": 18,
     "metadata": {},
     "output_type": "execute_result"
    }
   ],
   "source": [
    "model.evaluate(data_test,df_test['targets'])"
   ]
  },
  {
   "cell_type": "code",
   "execution_count": null,
   "id": "qQ3D1hxQzf0j",
   "metadata": {
    "colab": {
     "base_uri": "https://localhost:8080/",
     "height": 430
    },
    "id": "qQ3D1hxQzf0j",
    "outputId": "94538543-b6d9-4ca0-9784-5d95eb65b666"
   },
   "outputs": [
    {
     "data": {
      "image/png": "[encoded data removed]",
      "text/plain": [
       "<Figure size 640x480 with 1 Axes>"
      ]
     },
     "metadata": {},
     "output_type": "display_data"
    }
   ],
   "source": [
    "plt.plot(r.history['loss'],label='train_loss')\n",
    "plt.plot(r.history['val_loss'],label='val_loss')\n",
    "plt.legend();"
   ]
  },
  {
   "cell_type": "code",
   "execution_count": null,
   "id": "nhPeg47Az5U9",
   "metadata": {
    "colab": {
     "base_uri": "https://localhost:8080/",
     "height": 430
    },
    "id": "nhPeg47Az5U9",
    "outputId": "3bff5826-d199-4340-e051-fcc4c5d3f210"
   },
   "outputs": [
    {
     "data": {
      "image/png": "[encoded data removed]",
      "text/plain": [
       "<Figure size 640x480 with 1 Axes>"
      ]
     },
     "metadata": {},
     "output_type": "display_data"
    }
   ],
   "source": [
    "plt.plot(r.history['accuracy'],label='train_accuracy')\n",
    "plt.plot(r.history['val_accuracy'],label='val_accuracy')\n",
    "plt.legend();"
   ]
  },
  {
   "cell_type": "code",
   "execution_count": 13,
   "id": "0c691812",
   "metadata": {
    "id": "0c691812"
   },
   "outputs": [],
   "source": [
    "mapping=dict()\n",
    "for i,j in zip(df['labels'],df['targets']):\n",
    "    mapping[j]=i"
   ]
  },
  {
   "cell_type": "code",
   "execution_count": 14,
   "id": "48949801",
   "metadata": {
    "colab": {
     "base_uri": "https://localhost:8080/"
    },
    "id": "48949801",
    "outputId": "b543186f-56ec-4357-ab34-bc1ac96a1096"
   },
   "outputs": [
    {
     "data": {
      "text/plain": [
       "{0: 'business', 1: 'entertainment', 2: 'politics', 3: 'sport', 4: 'tech'}"
      ]
     },
     "execution_count": 14,
     "metadata": {},
     "output_type": "execute_result"
    }
   ],
   "source": [
    "mapping"
   ]
  },
  {
   "cell_type": "code",
   "execution_count": 15,
   "id": "5da87d6e",
   "metadata": {
    "id": "5da87d6e"
   },
   "outputs": [],
   "source": [
    "model=load_model(\"final_model_lstm.h5\")"
   ]
  },
  {
   "cell_type": "code",
   "execution_count": 16,
   "id": "69c3320d",
   "metadata": {},
   "outputs": [],
   "source": [
    "def predict(text):\n",
    "    test_sentence=tokenizer.texts_to_sequences(text)\n",
    "    test_sentence=pad_sequences(test_sentence,maxlen=T)\n",
    "    result=model.predict(test_sentence)\n",
    "    ans=mapping[result.argmax()]\n",
    "    return ans"
   ]
  },
  {
   "cell_type": "code",
   "execution_count": 17,
   "id": "4fa2d66e",
   "metadata": {},
   "outputs": [],
   "source": [
    "texts=[['Rigging is done in election'],['I like to play football'],['Neural networks are difficult'],\n",
    "       ['Tennis Tournament starts in May'],['Oil prices are increasing']]"
   ]
  },
  {
   "cell_type": "code",
   "execution_count": 18,
   "id": "8172910c",
   "metadata": {},
   "outputs": [
    {
     "name": "stdout",
     "output_type": "stream",
     "text": [
      "1/1 [==============================] - 1s 1s/step\n",
      "Rigging is done in election belongs to: politics category\n",
      "1/1 [==============================] - 0s 303ms/step\n",
      "I like to play football belongs to: sport category\n",
      "1/1 [==============================] - 0s 303ms/step\n",
      "Neural networks are difficult belongs to: tech category\n",
      "1/1 [==============================] - 0s 290ms/step\n",
      "Tennis Tournament starts in May belongs to: sport category\n",
      "1/1 [==============================] - 0s 298ms/step\n",
      "Oil prices are increasing belongs to: business category\n"
     ]
    }
   ],
   "source": [
    "for text in texts:\n",
    "    ans=predict(text)\n",
    "    text=' '.join(text)\n",
    "    print(f'{text} belongs to: {ans} category')"
   ]
  },
  {
   "cell_type": "code",
   "execution_count": null,
   "id": "e393d849",
   "metadata": {},
   "outputs": [],
   "source": []
  }
 ],
 "metadata": {
  "accelerator": "GPU",
  "colab": {
   "gpuType": "T4",
   "provenance": []
  },
  "kernelspec": {
   "display_name": "Python 3 (ipykernel)",
   "language": "python",
   "name": "python3"
  },
  "language_info": {
   "codemirror_mode": {
    "name": "ipython",
    "version": 3
   },
   "file_extension": ".py",
   "mimetype": "text/x-python",
   "name": "python",
   "nbconvert_exporter": "python",
   "pygments_lexer": "ipython3",
   "version": "3.9.7"
  }
 },
 "nbformat": 4,
 "nbformat_minor": 5
}
